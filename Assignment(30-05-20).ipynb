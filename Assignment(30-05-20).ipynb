{
 "cells": [
  {
   "cell_type": "markdown",
   "metadata": {},
   "source": [
    "# CSE-221710309057-SURAPANENI SAI MEGHANA\n",
    "# Question 1:\n",
    "Count the no.of words,no.of letters,no.of lines available in your file\n"
   ]
  },
  {
   "cell_type": "code",
   "execution_count": 2,
   "metadata": {},
   "outputs": [],
   "source": [
    "f=open(\"data.txt\",\"w\")\n",
    "f.write(\"hello everyone!\")\n",
    "f.close()"
   ]
  },
  {
   "cell_type": "code",
   "execution_count": 4,
   "metadata": {},
   "outputs": [
    {
     "name": "stdout",
     "output_type": "stream",
     "text": [
      "enter the file name:data.txt\n",
      "number of lines: 1\n",
      "\n",
      "number of words: 2\n",
      "\n",
      "number of letters: 14\n"
     ]
    }
   ],
   "source": [
    "fname=input(\"enter the file name:\")\n",
    "num_words=0\n",
    "num_lines=0\n",
    "num_letter=0\n",
    "with open(fname,\"r\") as f:\n",
    "    for line in f:\n",
    "        words=line.split()\n",
    "        num_words+=len(words)\n",
    "with open(fname,\"r\") as f:\n",
    "    for line in f:\n",
    "        num_lines+=1\n",
    "with open(fname,\"r\") as f:\n",
    "    words=line.split()\n",
    "    for i in words:\n",
    "        num_letter+=len(i)\n",
    "print(\"number of lines:\",num_lines)\n",
    "print(\"\\nnumber of words:\",num_words)\n",
    "print(\"\\nnumber of letters:\",num_letter)\n",
    "        "
   ]
  },
  {
   "cell_type": "markdown",
   "metadata": {},
   "source": [
    "# Question 2:\n",
    "Copy the content of one file to another\n"
   ]
  },
  {
   "cell_type": "code",
   "execution_count": 6,
   "metadata": {},
   "outputs": [],
   "source": [
    "\n",
    "with open(\"data.txt\") as f:\n",
    "    with open(\"out.txt\", \"w\") as f1:\n",
    "        for line in f:\n",
    "            f1.write(line)"
   ]
  },
  {
   "cell_type": "code",
   "execution_count": 7,
   "metadata": {},
   "outputs": [
    {
     "name": "stdout",
     "output_type": "stream",
     "text": [
      "hello everyone!\n"
     ]
    }
   ],
   "source": [
    "f = open(\"out.txt\",\"r\")\n",
    "data = f.read()\n",
    "print(data)\n",
    "f.close()"
   ]
  },
  {
   "cell_type": "markdown",
   "metadata": {},
   "source": [
    "# Question 3:\n",
    "Display the words starting with letter 'p'\n"
   ]
  },
  {
   "cell_type": "code",
   "execution_count": 8,
   "metadata": {},
   "outputs": [
    {
     "name": "stdout",
     "output_type": "stream",
     "text": [
      "pancakes\n",
      "pants\n",
      "park\n",
      "peaches.\n"
     ]
    }
   ],
   "source": [
    "St= '''\\nYour pancakes look really good.\n",
    "There is a sale on pants today. \n",
    "We go to the park once a week.\n",
    "Georgia grows the most delicious peaches.''' \n",
    "\n",
    "for i in St.split():\n",
    "    if i.startswith(\"p\"):\n",
    "        print(i)"
   ]
  },
  {
   "cell_type": "markdown",
   "metadata": {},
   "source": [
    "# Question 4:\n",
    "Rename and remove files\n",
    " "
   ]
  },
  {
   "cell_type": "code",
   "execution_count": 9,
   "metadata": {},
   "outputs": [
    {
     "name": "stdout",
     "output_type": "stream",
     "text": [
      "hello everyone!\n"
     ]
    }
   ],
   "source": [
    "import os\n",
    "os.rename(\"data.txt\",\"python.txt\")\n",
    "f = open(\"python.txt\",\"r\")\n",
    "data = f.read()\n",
    "print(data)\n",
    "f.close()"
   ]
  },
  {
   "cell_type": "code",
   "execution_count": 10,
   "metadata": {},
   "outputs": [
    {
     "ename": "FileNotFoundError",
     "evalue": "[Errno 2] No such file or directory: 'python.txt'",
     "output_type": "error",
     "traceback": [
      "\u001b[0;31m---------------------------------------------------------------------------\u001b[0m",
      "\u001b[0;31mFileNotFoundError\u001b[0m                         Traceback (most recent call last)",
      "\u001b[0;32m<ipython-input-10-c667ee7e441a>\u001b[0m in \u001b[0;36m<module>\u001b[0;34m\u001b[0m\n\u001b[1;32m      1\u001b[0m \u001b[0;32mimport\u001b[0m \u001b[0mos\u001b[0m\u001b[0;34m\u001b[0m\u001b[0;34m\u001b[0m\u001b[0m\n\u001b[1;32m      2\u001b[0m \u001b[0mos\u001b[0m\u001b[0;34m.\u001b[0m\u001b[0mremove\u001b[0m\u001b[0;34m(\u001b[0m\u001b[0;34m\"python.txt\"\u001b[0m\u001b[0;34m)\u001b[0m\u001b[0;34m\u001b[0m\u001b[0;34m\u001b[0m\u001b[0m\n\u001b[0;32m----> 3\u001b[0;31m \u001b[0mf\u001b[0m \u001b[0;34m=\u001b[0m \u001b[0mopen\u001b[0m\u001b[0;34m(\u001b[0m\u001b[0;34m\"python.txt\"\u001b[0m\u001b[0;34m,\u001b[0m\u001b[0;34m\"r\"\u001b[0m\u001b[0;34m)\u001b[0m\u001b[0;34m\u001b[0m\u001b[0;34m\u001b[0m\u001b[0m\n\u001b[0m",
      "\u001b[0;31mFileNotFoundError\u001b[0m: [Errno 2] No such file or directory: 'python.txt'"
     ]
    }
   ],
   "source": [
    "import os\n",
    "os.remove(\"python.txt\")\n",
    "f = open(\"python.txt\",\"r\")"
   ]
  },
  {
   "cell_type": "markdown",
   "metadata": {},
   "source": [
    "# Question 5:\n",
    "Create a folder \n",
    "Goto that folder and create 5 no.of files\n",
    "All the file names should be unique\n",
    "Add some content into the file and the content in all the files should be unique\n",
    "File size should be 512bits\n",
    "\n"
   ]
  },
  {
   "cell_type": "code",
   "execution_count": 2,
   "metadata": {},
   "outputs": [
    {
     "name": "stdout",
     "output_type": "stream",
     "text": [
      "enter no. of elements in list:5\n",
      "11\n",
      "12\n",
      "13\n",
      "14\n",
      "15\n",
      "the list is: [11, 12, 13, 14, 15]\n",
      "sum is: 65\n"
     ]
    }
   ],
   "source": [
    "#sum of list elements\n",
    "x=[]\n",
    "n=int(input(\"enter no. of elements in list:\"))\n",
    "for i in range(0,n):\n",
    "    element=int(input())\n",
    "    x.append(element)\n",
    "print(\"the list is:\",x)\n",
    "s=0\n",
    "for i in range(0,len(x)):\n",
    "    s=s+x[i]\n",
    "print(\"sum is:\",s)"
   ]
  },
  {
   "cell_type": "code",
   "execution_count": 3,
   "metadata": {},
   "outputs": [
    {
     "name": "stdout",
     "output_type": "stream",
     "text": [
      "enter no. of elements in list:4\n",
      "2\n",
      "6\n",
      "5\n",
      "7\n",
      "the list is: [2, 6, 5, 7]\n",
      "the even numbers in list are:\n",
      "2\n",
      "6\n"
     ]
    }
   ],
   "source": [
    "#even numbers from the list\n",
    "x=[]\n",
    "n=int(input(\"enter no. of elements in list:\"))\n",
    "for i in range(0,n):\n",
    "    element=int(input())\n",
    "    x.append(element)\n",
    "print(\"the list is:\",x)\n",
    "print(\"the even numbers in list are:\")\n",
    "for i in range(0,len(x)):\n",
    "    if(x[i]%2==0):\n",
    "        print(x[i])"
   ]
  },
  {
   "cell_type": "code",
   "execution_count": 4,
   "metadata": {},
   "outputs": [
    {
     "name": "stdout",
     "output_type": "stream",
     "text": [
      "2\n",
      "it is prime\n",
      "enter no. Of elements in list:4\n",
      "12\n",
      "34\n",
      "56\n",
      "8\n",
      "the list is: [12, 34, 56, 8]\n"
     ]
    }
   ],
   "source": [
    "def prime(n):\n",
    "    c=0\n",
    "    for i in range(1,n+1):\n",
    "        if(n%i==0):\n",
    "            c+=1\n",
    "    if(c==2):\n",
    "        print(\"it is prime\")\n",
    "    else:\n",
    "        print(\"it is not a prime\")\n",
    "x=int(input())\n",
    "prime(x)\n",
    "b=int(input(\"enter no. Of elements in list:\"))\n",
    "list1=[]\n",
    "for i in range(0,b):\n",
    "        ele=int(input())\n",
    "        list1.append(ele)\n",
    "print(\"the list is:\",list1)\n",
    "for i in range(0,len(list1)):\n",
    "        v=0\n",
    "        for j in range(1,list1[i]+1):\n",
    "             if(list1[i]%j==0):\n",
    "                   v+=1\n",
    "        if(v==2):\n",
    "            print(list1[i])"
   ]
  },
  {
   "cell_type": "code",
   "execution_count": 5,
   "metadata": {},
   "outputs": [
    {
     "name": "stdout",
     "output_type": "stream",
     "text": [
      "5\n",
      "binary: 101\n",
      "octal: 5\n"
     ]
    }
   ],
   "source": [
    "#Converting a number to binary or actal\n",
    "def binary(n):\n",
    "    x=bin(n)\n",
    "    x=x[2:]\n",
    "    print(\"binary:\",x)\n",
    "def octal(n):\n",
    "    y=oct(n)\n",
    "    y=y[2:]\n",
    "    print(\"octal:\",y)\n",
    "n=int(input())\n",
    "binary(n)\n",
    "octal(n)"
   ]
  },
  {
   "cell_type": "code",
   "execution_count": null,
   "metadata": {},
   "outputs": [],
   "source": []
  }
 ],
 "metadata": {
  "kernelspec": {
   "display_name": "Python 3",
   "language": "python",
   "name": "python3"
  }
 },
 "nbformat": 4,
 "nbformat_minor": 4
}

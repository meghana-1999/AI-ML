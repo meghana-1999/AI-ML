{
 "cells": [
  {
   "cell_type": "code",
   "execution_count": 10,
   "metadata": {},
   "outputs": [
    {
     "name": "stdout",
     "output_type": "stream",
     "text": [
      "*\r\n",
      "**\r\n",
      "***\r\n",
      "****\r\n",
      "*****\r\n"
     ]
    }
   ],
   "source": [
    "# 1. Generate the following pattern\n",
    " # *\n",
    "# *  *\n",
    "# *  *  *\n",
    "# *  *  *  *\n",
    "# *  *  *  *  * \n",
    "n=5\n",
    "for i in range(0,n):\n",
    "    for j in range(0,i+1):\n",
    "        print(\"*\",end=\"\")\n",
    "    print(\"\\r\")\n",
    "    \n"
   ]
  },
  {
   "cell_type": "code",
   "execution_count": 2,
   "metadata": {},
   "outputs": [
    {
     "name": "stdout",
     "output_type": "stream",
     "text": [
      "7 x 1 = 7\n",
      "7 x 2 = 14\n",
      "7 x 3 = 21\n",
      "7 x 4 = 28\n",
      "7 x 5 = 35\n",
      "7 x 6 = 42\n",
      "7 x 7 = 49\n",
      "7 x 8 = 56\n",
      "7 x 9 = 63\n",
      "7 x 10 = 70\n"
     ]
    }
   ],
   "source": [
    "#2. Display multiplication table of K. Take k value from user\n",
    "# Ex: 7 x 1 =7\n",
    "# 7 x 2 = 14   .....\n",
    "n=7\n",
    "i=1\n",
    "while(i<11):\n",
    "    print(n,\"x\",i,\"=\",n*i)\n",
    "    i+=1\n"
   ]
  },
  {
   "cell_type": "code",
   "execution_count": 11,
   "metadata": {},
   "outputs": [
    {
     "name": "stdout",
     "output_type": "stream",
     "text": [
      "enter the value of a5\n",
      "enter the value of b20\n",
      "enter the value of c10\n",
      "There are 2 roots: 0 and -3\n"
     ]
    }
   ],
   "source": [
    "# 3.Roots of quadratic equation\n",
    "# Take the coefficients a,b,c from the user\n",
    "\n",
    "\n",
    "from math import sqrt\n",
    "a=int(input(\"enter the value of a\"))\n",
    "b=int(input(\"enter the value of b\"))\n",
    "c=int(input(\"enter the value of c\"))\n",
    "\n",
    "d=b**2 - 4*a*c\n",
    "if d> 0:\n",
    "    num_roots = 2\n",
    "    x1 = (((-b) + sqrt(d))/(2*a))     \n",
    "    x2 = (((-b) - sqrt(d))/(2*a))\n",
    "    print(\"There are 2 roots: %d and %d\" % (x1, x2))\n",
    "elif d == 0:\n",
    "    num_roots = 1\n",
    "    x = (-b) / 2*a\n",
    "    print(\"There is one root: \", x)\n",
    "else:\n",
    "    num_roots = 0\n",
    "    print(\"No roots\")\n",
    "\n"
   ]
  },
  {
   "cell_type": "code",
   "execution_count": 3,
   "metadata": {},
   "outputs": [
    {
     "name": "stdout",
     "output_type": "stream",
     "text": [
      "enter the value of n5\n",
      "Binary number is: \n",
      "101"
     ]
    }
   ],
   "source": [
    "# 4.Convert a decimal number to Binary\n",
    "n=int(input(\"enter the value of n\"))\n",
    "a=[]#list\n",
    "while(n>0):\n",
    "    dig=n%2\n",
    "    a.append(dig)\n",
    "    n=n//2\n",
    "a.reverse()\n",
    "print(\"Binary number is: \")\n",
    "for i in a:\n",
    "    print(i,end=\"\")\n"
   ]
  },
  {
   "cell_type": "code",
   "execution_count": 4,
   "metadata": {},
   "outputs": [
    {
     "name": "stdout",
     "output_type": "stream",
     "text": [
      "enter the N value5\n",
      "0\n",
      "1\n",
      "1\n",
      "2\n",
      "3\n"
     ]
    }
   ],
   "source": [
    "#5. Generate first N number of Fibonacci numbers. Take N value from the user\n",
    "n=int(input(\"enter the N value\"))\n",
    "a=0\n",
    "b=1\n",
    "i=0\n",
    "while(i<n):\n",
    "    print(a)\n",
    "    c=a+b\n",
    "    a=b\n",
    "    b=c\n",
    "    i+=1"
   ]
  },
  {
   "cell_type": "code",
   "execution_count": null,
   "metadata": {},
   "outputs": [],
   "source": []
  }
 ],
 "metadata": {
  "kernelspec": {
   "display_name": "Python 3",
   "language": "python",
   "name": "python3"
  },
  "language_info": {
   "codemirror_mode": {
    "name": "ipython",
    "version": 3
   },
   "file_extension": ".py",
   "mimetype": "text/x-python",
   "name": "python",
   "nbconvert_exporter": "python",
   "pygments_lexer": "ipython3",
   "version": "3.7.4"
  }
 },
 "nbformat": 4,
 "nbformat_minor": 2
}

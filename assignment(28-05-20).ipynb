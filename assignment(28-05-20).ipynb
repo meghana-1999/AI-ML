{
 "cells": [
  {
   "cell_type": "code",
   "execution_count": 6,
   "metadata": {},
   "outputs": [
    {
     "name": "stdout",
     "output_type": "stream",
     "text": [
      "enter the stringwelcome of python\n",
      "Vowels: 5\n",
      "Consonant: 10\n",
      "Special Character: 2\n"
     ]
    }
   ],
   "source": [
    "#Question 1:\n",
    "#Accept a string from the user and count no.of vowels,consonants and special characters\n",
    "s=input(\"enter the string\")\n",
    "vcount=0\n",
    "ccount=0\n",
    "scount=0\n",
    "for i in range(0, len(s)):  \n",
    "    ch = s[i]  \n",
    "    if ( (ch >= 'a' and ch <= 'z') or (ch >= 'A' and ch <= 'Z') ):  \n",
    "        ch = ch.lower() \n",
    "        if (ch == 'a' or ch == 'e' or ch == 'i' or ch == 'o' or ch == 'u'): \n",
    "                vcount += 1\n",
    "        else: \n",
    "                ccount+= 1\n",
    "          \n",
    "        \n",
    "    else: \n",
    "            scount+= 1\n",
    "print(\"Vowels:\", vcount) \n",
    "print(\"Consonant:\", ccount)  \n",
    "print(\"Special Character:\", scount)  "
   ]
  },
  {
   "cell_type": "code",
   "execution_count": 1,
   "metadata": {},
   "outputs": [
    {
     "name": "stdout",
     "output_type": "stream",
     "text": [
      "enter the stringabbaaccbbaaa\n",
      "2\n"
     ]
    }
   ],
   "source": [
    "#Question 2:\n",
    "#count the no.of pairs of a in the given string(Infosys InfyTQ)\n",
    "#string →  \"abbaaccbbaaa\"\n",
    "#output →  2\n",
    "\n",
    "s=input(\"enter the string\")\n",
    "pairs_cnt = 0\n",
    "s1 = set(s)\n",
    "for i in s1:\n",
    "    if(i=='a'):\n",
    "        pairs_cnt += s.count(i + i)\n",
    "print(pairs_cnt)\n",
    "  \n",
    "  \n"
   ]
  },
  {
   "cell_type": "code",
   "execution_count": 8,
   "metadata": {},
   "outputs": [
    {
     "name": "stdout",
     "output_type": "stream",
     "text": [
      "enter the string((()))()\n",
      "4\n"
     ]
    }
   ],
   "source": [
    "#Question 3:\n",
    "#Test case1:\n",
    "# string →  \"((((()()()))))()\"\n",
    "#output →  8\n",
    "#Test case2:\n",
    "#string →  \"((()))()\"\n",
    "#Output →  4\n",
    "\n",
    "s=input(\"enter the string\")\n",
    "pairs_cnt = 0\n",
    "s1 = set(s)\n",
    "for i in s1:\n",
    "    if(i=='(' or i==')'):\n",
    "        pairs_cnt += s.count(i+i)\n",
    "print(pairs_cnt*2)\n",
    "    "
   ]
  },
  {
   "cell_type": "code",
   "execution_count": 20,
   "metadata": {},
   "outputs": [
    {
     "name": "stdout",
     "output_type": "stream",
     "text": [
      "  Enter the Maximum Value : 10\n",
      "9\n"
     ]
    }
   ],
   "source": [
    "#Question 4:\n",
    "#Read the input as two limits and Print the output as Palindrome count between the two limits\n",
    "#Example #1; Input : 1 10 Output : 9\n",
    "#Example #2: Input : 1 100 Output : 18\n",
    "\n",
    "maximum = int(input(\"  Enter the Maximum Value : \"))\n",
    "count=0\n",
    "for num in range(1, maximum + 1):\n",
    "    temp = num\n",
    "    reverse = 0\n",
    "    while(temp > 0):\n",
    "        Reminder = temp % 10\n",
    "        reverse = (reverse * 10) + Reminder\n",
    "        temp = temp //10\n",
    "\n",
    "    if(num == reverse):\n",
    "        count+=1\n",
    "print(count)"
   ]
  },
  {
   "cell_type": "code",
   "execution_count": 19,
   "metadata": {},
   "outputs": [
    {
     "name": "stdout",
     "output_type": "stream",
     "text": [
      "Enter a number:127\n",
      "848\n"
     ]
    }
   ],
   "source": [
    "#Question 5:\n",
    "#Accept a number as an input and check whether the given number is palindrome or not\n",
    "#if it is a palindrome number print the number on the screen\n",
    "#if it is not a palindrome number reverse that number and add it to previous number repeat this until will get a palindrome number and print that palindrome number on the screen\n",
    "#input: 127\n",
    "#output: 848\n",
    "num=int(input(\"Enter a number:\"))\n",
    "temp=num\n",
    "rev=0\n",
    "while(num>0):\n",
    "    dig=num%10\n",
    "    rev=rev*10+dig\n",
    "    num=num//10\n",
    "if(temp==rev):\n",
    "    print(\"The number is palindrome\")\n",
    "else:\n",
    "    print(temp+rev)\n",
    "\n"
   ]
  },
  {
   "cell_type": "code",
   "execution_count": null,
   "metadata": {},
   "outputs": [],
   "source": []
  }
 ],
 "metadata": {
  "kernelspec": {
   "display_name": "Python 3",
   "language": "python",
   "name": "python3"
  },
  "language_info": {
   "codemirror_mode": {
    "name": "ipython",
    "version": 3
   },
   "file_extension": ".py",
   "mimetype": "text/x-python",
   "name": "python",
   "nbconvert_exporter": "python",
   "pygments_lexer": "ipython3",
   "version": "3.7.6"
  }
 },
 "nbformat": 4,
 "nbformat_minor": 4
}

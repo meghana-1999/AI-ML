{
 "cells": [
  {
   "cell_type": "code",
   "execution_count": 6,
   "metadata": {},
   "outputs": [
    {
     "name": "stdout",
     "output_type": "stream",
     "text": [
      "enter the stringwelcome of python\n",
      "Vowels: 5\n",
      "Consonant: 10\n",
      "Special Character: 2\n"
     ]
    }
   ],
   "source": [
    "#Question 1:\n",
    "#Accept a string from the user and count no.of vowels,consonants and special characters\n",
    "s=input(\"enter the string\")\n",
    "vcount=0\n",
    "ccount=0\n",
    "scount=0\n",
    "for i in range(0, len(s)):  \n",
    "    ch = s[i]  \n",
    "    if ( (ch >= 'a' and ch <= 'z') or (ch >= 'A' and ch <= 'Z') ):  \n",
    "        ch = ch.lower() \n",
    "        if (ch == 'a' or ch == 'e' or ch == 'i' or ch == 'o' or ch == 'u'): \n",
    "                vcount += 1\n",
    "        else: \n",
    "                ccount+= 1\n",
    "          \n",
    "        \n",
    "    else: \n",
    "            scount+= 1\n",
    "print(\"Vowels:\", vcount) \n",
    "print(\"Consonant:\", ccount)  \n",
    "print(\"Special Character:\", scount)  "
   ]
  },
  {
   "cell_type": "code",
   "execution_count": 1,
   "metadata": {},
   "outputs": [
    {
     "name": "stdout",
     "output_type": "stream",
     "text": [
      "enter the stringabbaaccbbaaa\n",
      "2\n"
     ]
    }
   ],
   "source": [
    "#Question 2:\n",
    "#count the no.of pairs of a in the given string(Infosys InfyTQ)\n",
    "#string →  \"abbaaccbbaaa\"\n",
    "#output →  2\n",
    "\n",
    "s=input(\"enter the string\")\n",
    "pairs_cnt = 0\n",
    "s1 = set(s)\n",
    "for i in s1:\n",
    "    if(i=='a'):\n",
    "        pairs_cnt += s.count(i + i)\n",
    "print(pairs_cnt)\n",
    "  \n",
    "  \n"
   ]
  },
  {
   "cell_type": "code",
   "execution_count": 8,
   "metadata": {},
   "outputs": [
    {
     "name": "stdout",
     "output_type": "stream",
     "text": [
      "enter the string((()))()\n",
      "4\n"
     ]
    }
   ],
   "source": [
    "#Question 3:\n",
    "#Test case1:\n",
    "# string →  \"((((()()()))))()\"\n",
    "#output →  8\n",
    "#Test case2:\n",
    "#string →  \"((()))()\"\n",
    "#Output →  4\n",
    "\n",
    "s=input(\"enter the string\")\n",
    "pairs_cnt = 0\n",
    "s1 = set(s)\n",
    "for i in s1:\n",
    "    if(i=='(' or i==')'):\n",
    "        pairs_cnt += s.count(i+i)\n",
    "print(pairs_cnt*2)\n",
    "    "
   ]
  },
  {
   "cell_type": "code",
   "execution_count": 20,
   "metadata": {},
   "outputs": [
    {
     "name": "stdout",
     "output_type": "stream",
     "text": [
      "  Enter the Maximum Value : 10\n",
      "9\n"
     ]
    }
   ],
   "source": [
    "#Question 4:\n",
    "#Read the input as two limits and Print the output as Palindrome count between the two limits\n",
    "#Example #1; Input : 1 10 Output : 9\n",
    "#Example #2: Input : 1 100 Output : 18\n",
    "\n",
    "maximum = int(input(\"  Enter the Maximum Value : \"))\n",
    "count=0\n",
    "for num in range(1, maximum + 1):\n",
    "    temp = num\n",
    "    reverse = 0\n",
    "    while(temp > 0):\n",
    "        Reminder = temp % 10\n",
    "        reverse = (reverse * 10) + Reminder\n",
    "        temp = temp //10\n",
    "\n",
    "    if(num == reverse):\n",
    "        count+=1\n",
    "print(count)"
   ]
  },
  {
   "cell_type": "code",
   "execution_count": 19,
   "metadata": {},
   "outputs": [
    {
     "name": "stdout",
     "output_type": "stream",
     "text": [
      "Enter a number:127\n",
      "848\n"
     ]
    }
   ],
   "source": [
    "#Question 5:\n",
    "#Accept a number as an input and check whether the given number is palindrome or not\n",
    "#if it is a palindrome number print the number on the screen\n",
    "#if it is not a palindrome number reverse that number and add it to previous number repeat this until will get a palindrome number and print that palindrome number on the screen\n",
    "#input: 127\n",
    "#output: 848\n",
    "num=int(input(\"Enter a number:\"))\n",
    "temp=num\n",
    "rev=0\n",
    "while(num>0):\n",
    "    dig=num%10\n",
    "    rev=rev*10+dig\n",
    "    num=num//10\n",
    "if(temp==rev):\n",
    "    print(\"The number is palindrome\")\n",
    "else:\n",
    "    print(temp+rev)\n",
    "\n"
   ]
  },
  {
   "cell_type": "code",
   "execution_count": 7,
   "metadata": {},
   "outputs": [
    {
     "name": "stdout",
     "output_type": "stream",
     "text": [
      "puboif\n"
     ]
    }
   ],
   "source": [
    "#Question 6:\n",
    "#input:orange  →   output : puboif\n",
    "\n",
    "import string\n",
    "text='orange'\n",
    "vowels='aeiou'\n",
    "result = ''\n",
    "for char in text:\n",
    "    i = string.ascii_letters.index(char)\n",
    "    if char.lower() in vowels:\n",
    "        result += string.ascii_letters[(i + 1) % len(string.ascii_letters)]\n",
    "    else:\n",
    "        c = 'a'\n",
    "        for c in vowels:\n",
    "            if string.ascii_letters.index(c) > i:\n",
    "                break\n",
    "        result += c\n",
    "\n",
    "\n",
    "print(result)"
   ]
  },
  {
   "cell_type": "code",
   "execution_count": 9,
   "metadata": {},
   "outputs": [
    {
     "name": "stdout",
     "output_type": "stream",
     "text": [
      "enter a stringAppli123cation456 \n",
      "21\n"
     ]
    }
   ],
   "source": [
    "#Question 7:\n",
    "#Accept input as a string and display sum of digits as the output \n",
    "#input:Appli123cation456 \n",
    "#Output: 21\n",
    "str1=input(\"enter a string\")\n",
    "sum_digit = 0\n",
    "for x in str1:\n",
    "        if x.isdigit() == True:\n",
    "            z = int(x)\n",
    "            sum_digit = sum_digit + z\n",
    "print(sum_digit)"
   ]
  },
  {
   "cell_type": "code",
   "execution_count": 1,
   "metadata": {},
   "outputs": [
    {
     "name": "stdout",
     "output_type": "stream",
     "text": [
      "Enter score between 0.0 and 1.0: 0.85\n",
      "B\n"
     ]
    }
   ],
   "source": [
    "#Question 8:\n",
    "#Write a program to prompt for a score between 0.0 and 1.0. If the score is out of range, print an error. If the score is between 0.0 and 1.0, print a grade using the following table:\n",
    "#Score Grade\n",
    "#>= 0.9 A\n",
    "#>= 0.8 B\n",
    "#>= 0.7 C\n",
    "#>= 0.6 D\n",
    "#< 0.6 F\n",
    "#If the user enters a value out of range, print a suitable error message and exit. For the test, enter a score of 0.85\n",
    "\n",
    "score = float(input(\"Enter score between 0.0 and 1.0: \"))\n",
    "if score>1.0 or score<0.0 :\n",
    "                        print(\"error\")\n",
    "elif score>=0.9 :\n",
    "            print ('A')\n",
    "elif score>=0.8 :\n",
    "            print ('B')\n",
    "elif score>=0.7 :\n",
    "            print ('C')\n",
    "elif score>=0.6 :\n",
    "            print ('D')\n",
    "else :\n",
    "            print ('F')"
   ]
  },
  {
   "cell_type": "code",
   "execution_count": 2,
   "metadata": {},
   "outputs": [
    {
     "name": "stdout",
     "output_type": "stream",
     "text": [
      "fizzbuzz\n",
      "1\n",
      "2\n",
      "fizz\n",
      "4\n",
      "buzz\n",
      "fizz\n",
      "7\n",
      "8\n",
      "fizz\n",
      "buzz\n",
      "11\n",
      "fizz\n",
      "13\n",
      "14\n",
      "fizzbuzz\n",
      "16\n",
      "17\n",
      "fizz\n",
      "19\n",
      "buzz\n",
      "fizz\n",
      "22\n",
      "23\n",
      "fizz\n",
      "buzz\n",
      "26\n",
      "fizz\n",
      "28\n",
      "29\n",
      "fizzbuzz\n",
      "31\n",
      "32\n",
      "fizz\n",
      "34\n",
      "buzz\n",
      "fizz\n",
      "37\n",
      "38\n",
      "fizz\n",
      "buzz\n",
      "41\n",
      "fizz\n",
      "43\n",
      "44\n",
      "fizzbuzz\n",
      "46\n",
      "47\n",
      "fizz\n",
      "49\n",
      "buzz\n"
     ]
    }
   ],
   "source": [
    "#Question 9:\n",
    "#Write a Python program which iterates the integers from 1 to 50. For multiples of three print \"Fizz\" instead of the number and for the multiples of five print \"Buzz\". For numbers which are multiples of both three and five print \"FizzBuzz\".\n",
    "#Sample Output :\n",
    "#fizzbuzz\n",
    "#1\n",
    "#2\n",
    "#fizz\n",
    "#4\n",
    "#buzz\n",
    "for fizzbuzz in range(51):\n",
    "    if fizzbuzz % 3 == 0 and fizzbuzz % 5 == 0:\n",
    "        print(\"fizzbuzz\")\n",
    "        continue\n",
    "    elif fizzbuzz % 3 == 0:\n",
    "        print(\"fizz\")\n",
    "        continue\n",
    "    elif fizzbuzz % 5 == 0:\n",
    "        print(\"buzz\")\n",
    "        continue\n",
    "    print(fizzbuzz)"
   ]
  },
  {
   "cell_type": "code",
   "execution_count": 2,
   "metadata": {},
   "outputs": [
    {
     "name": "stdout",
     "output_type": "stream",
     "text": [
      "Input first number: 26\n",
      "Input second number: 15\n",
      "Input third number: 29\n",
      "The median is 26.0\n"
     ]
    }
   ],
   "source": [
    "#Question 10:\n",
    "#Write a Python program to find the median of three values.\n",
    "#Expected Output:\n",
    "#Input first number: 26                                            \n",
    "#Input second number: 15                                                \n",
    "#Input third number: 29                                                  \n",
    "#The median is 26\n",
    "a = float(input(\"Input first number: \"))\n",
    "b = float(input(\"Input second number: \"))\n",
    "c = float(input(\"Input third number: \"))\n",
    "if a > b:\n",
    "    if a < c:\n",
    "        median = a\n",
    "    elif b > c:\n",
    "        median = b\n",
    "    else:\n",
    "        median = c\n",
    "else:\n",
    "    if a > c:\n",
    "        median = a\n",
    "    elif b < c:\n",
    "        median = b\n",
    "    else:\n",
    "        median = c\n",
    "\n",
    "print(\"The median is\", median)\n"
   ]
  },
  {
   "cell_type": "code",
   "execution_count": null,
   "metadata": {},
   "outputs": [],
   "source": []
  }
 ],
 "metadata": {
  "kernelspec": {
   "display_name": "Python 3",
   "language": "python",
   "name": "python3"
  },
  "language_info": {
   "codemirror_mode": {
    "name": "ipython",
    "version": 3
   },
   "file_extension": ".py",
   "mimetype": "text/x-python",
   "name": "python",
   "nbconvert_exporter": "python",
   "pygments_lexer": "ipython3",
   "version": "3.7.6"
  }
 },
 "nbformat": 4,
 "nbformat_minor": 4
}

{
 "cells": [
  {
   "cell_type": "markdown",
   "metadata": {},
   "source": [
    "# cse-221710309057-surapaneni sai meghana\n",
    "\n",
    "\n",
    "# Question 1:\n",
    "[Reverse] Copy the contents of a text file into another, printing the reversed version of each input line\n",
    "Question 2:\n"
   ]
  },
  {
   "cell_type": "code",
   "execution_count": 5,
   "metadata": {},
   "outputs": [],
   "source": [
    "f1 = open(\"output1.txt\", \"w\") \n",
    "with open(\"file.txt\", \"r\") as myfile: \n",
    "    data = myfile.read() \n",
    "data_1 = data[::-1] \n",
    "f1.write(data_1) \n",
    "f1.close() \n",
    "f2 = open(\"output2.txt\", \"w\") \n",
    "f2 = open(\"output2.txt\", \"w\") \n",
    "with open(\"file.txt\", \"r\") as myfile: \n",
    "    data = myfile.readlines() \n",
    "data_2 = data[::-1] \n",
    "f2.writelines(data_2) \n",
    "f2.close()   \n",
    "  \n",
    "\n"
   ]
  },
  {
   "cell_type": "markdown",
   "metadata": {},
   "source": [
    "# Question 2:\n",
    "[Number Lines] Print the contents of a file line by line putting a line number for each line.\n",
    "\n"
   ]
  },
  {
   "cell_type": "code",
   "execution_count": 7,
   "metadata": {},
   "outputs": [
    {
     "name": "stdout",
     "output_type": "stream",
     "text": [
      "Line 0: hi! my name is meghana\n",
      "\n",
      "Line 1: welcome to AI&ML\n"
     ]
    }
   ],
   "source": [
    "filepath = 'file.txt'\n",
    "with open(filepath) as fp:\n",
    "    for cnt, line in enumerate(fp):\n",
    "        print(\"Line {}: {}\".format(cnt, line))"
   ]
  },
  {
   "cell_type": "markdown",
   "metadata": {},
   "source": [
    "# Question 3:\n",
    "[deDuplicate] Avoiding Duplicates\n",
    "In many situations, lists should not contain duplicate elements. For example, a pack of cards should not contain the same card twice. Define a function\n",
    "duplicates (list): bool\n",
    "which returns True if its argument contains duplicate elements.\n",
    "\t\tduplicates [1,2,3,4,5]\n",
    "\t\t\tFalse\n",
    "\t\tduplicates [1,2,3,2]\n",
    "\t\t\tTrue\n",
    "Hint: the standard operation in, which tests whether an element occurs in a list, is helpful here.\n",
    "\n",
    "One way to ensure a list contains no duplicates is to start with a list that might contain duplicate elements, and remove them. Define a function\n",
    "    removeDuplicates (list): list\n",
    "which returns a list containing the same elements as its argument, but without duplicates.\n"
   ]
  },
  {
   "cell_type": "code",
   "execution_count": 17,
   "metadata": {},
   "outputs": [
    {
     "name": "stdout",
     "output_type": "stream",
     "text": [
      "True\n"
     ]
    }
   ],
   "source": [
    "def Remove(duplicate): \n",
    "    for num in duplicate: \n",
    "        if len(duplicate) != len(set(duplicate)):\n",
    "            return True\n",
    "        else:\n",
    "            return False\n",
    "    return duplicate\n",
    "      \n",
    "\n",
    "duplicate = [1,2,3,2] \n",
    "print(Remove(duplicate)) "
   ]
  },
  {
   "cell_type": "markdown",
   "metadata": {},
   "source": [
    "# Question 4:\n",
    "[fractions.py] Develop a package for fractions. \n",
    "Develop a module that performs operations on fractions.\n",
    "It should have methods to create fractions, perform operations on two fractions, simplify a fraction, \n",
    "and print a fraction. You should use that package and illustrate those operations.\n",
    "\n",
    "\n"
   ]
  },
  {
   "cell_type": "code",
   "execution_count": null,
   "metadata": {},
   "outputs": [],
   "source": [
    "from fractions import Fraction \n",
    " \n",
    "print(Fraction(100, 10) + Fraction(25, 5)) \n",
    " \n",
    "print(Fraction(18, 5) / Fraction(18, 10)) \n",
    " \n",
    "print(Fraction(18, 15) * Fraction(16, 25)) \n",
    " \n",
    "print(Fraction(17, 25) * Fraction(15, 25)) \n",
    " \n",
    "print(Fraction(12, 5) ** Fraction(12, 11)) "
   ]
  },
  {
   "cell_type": "markdown",
   "metadata": {},
   "source": [
    "# Question 5:\n",
    "[Permutations] \n",
    "A permutation of a list is another list with the same elements, but in a possibly different order. For example, [1,2,1] is a permutation of [2,1,1], but not of [1,2,2]. Write a function\n",
    "    \t\tisPermutation (list1, list2): bool\n",
    "that returns True if its arguments are permutations of each other.\n",
    "\n"
   ]
  },
  {
   "cell_type": "code",
   "execution_count": 38,
   "metadata": {},
   "outputs": [
    {
     "name": "stdout",
     "output_type": "stream",
     "text": [
      "(1, 3, <class 'int'>)\n"
     ]
    }
   ],
   "source": [
    "L1 = [1, 'b', 1, 'c', 'c', 1]\n",
    "L2 = ['c', 1, 'b', 1, 1, 'c']\n",
    "\n",
    "\n",
    "def isPermutation(list1,list2):\n",
    "    if len(list1) != len(list2):\n",
    "        return False;  #two list does not have same length so impossible being permutation of each other\n",
    "    for i in range(0, len(list1)):\n",
    "        if list1.count(list1[i]) != list2.count(list1[i]):\n",
    "            return False\n",
    "\n",
    "def is_list_permutation(list1,list2):\n",
    "    if (isPermutation(list1,list2) == False): #use the above method isPermutation to check if they are permutation of each other\n",
    "        return False #if not return false\n",
    "    elif not list1:\n",
    "        return (None, None, None)\n",
    "    else:\n",
    "        mostOccurItem = max(set(list1), key=list1.count)  \n",
    "        numberOfTimes = list1.count(mostOccurItem)\n",
    "        theType = type(mostOccurItem)\n",
    "        return (mostOccurItem, numberOfTimes, theType)\n",
    "\n",
    "print(is_list_permutation(L1,L2))"
   ]
  },
  {
   "cell_type": "code",
   "execution_count": null,
   "metadata": {},
   "outputs": [],
   "source": []
  }
 ],
 "metadata": {
  "kernelspec": {
   "display_name": "Python 3",
   "language": "python",
   "name": "python3"
  },
  "language_info": {
   "codemirror_mode": {
    "name": "ipython",
    "version": 3
   },
   "file_extension": ".py",
   "mimetype": "text/x-python",
   "name": "python",
   "nbconvert_exporter": "python",
   "pygments_lexer": "ipython3",
   "version": "3.7.6"
  }
 },
 "nbformat": 4,
 "nbformat_minor": 4
}

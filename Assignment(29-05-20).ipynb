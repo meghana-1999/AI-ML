{
 "cells": [
  {
   "cell_type": "markdown",
   "metadata": {},
   "source": [
    "# Question 1:\n",
    "Create a function to find Factorial of a number using Recursion\n"
   ]
  },
  {
   "cell_type": "code",
   "execution_count": 1,
   "metadata": {},
   "outputs": [
    {
     "name": "stdout",
     "output_type": "stream",
     "text": [
      "enter the number5\n",
      "factorial of 5 is  120\n"
     ]
    }
   ],
   "source": [
    "def factorial(x):\n",
    "    if x==1:\n",
    "        return 1\n",
    "    else:\n",
    "        return x*factorial(x-1)\n",
    "\n",
    "n=int(input(\"enter the number\"))\n",
    "f=factorial(n)\n",
    "print (\"factorial of\",n,\"is \",f)"
   ]
  },
  {
   "cell_type": "markdown",
   "metadata": {},
   "source": [
    "# Question 2:\n",
    "Create a function and display ‘n’ Fibonacci numbers using Recursion\n"
   ]
  },
  {
   "cell_type": "code",
   "execution_count": 7,
   "metadata": {},
   "outputs": [
    {
     "name": "stdout",
     "output_type": "stream",
     "text": [
      "Enter the range:5\n",
      "Fibonacci sequence is:\n",
      "0\n",
      "1\n",
      "1\n",
      "2\n",
      "3\n"
     ]
    }
   ],
   "source": [
    "def fibonacci(n):\n",
    "    if(n <= 1):\n",
    "        return n\n",
    "    else:\n",
    "        return(fibonacci(n-1) + fibonacci(n-2))\n",
    "n = int(input(\"Enter the range:\"))\n",
    "print(\"Fibonacci sequence is:\")\n",
    "for i in range(n):\n",
    "    print (fibonacci(i)),"
   ]
  },
  {
   "cell_type": "markdown",
   "metadata": {},
   "source": [
    "# Question 3:\n",
    "Print sum of list of elements without using sum() function\n"
   ]
  },
  {
   "cell_type": "code",
   "execution_count": 7,
   "metadata": {},
   "outputs": [
    {
     "name": "stdout",
     "output_type": "stream",
     "text": [
      "25\n"
     ]
    }
   ],
   "source": [
    "def sol(List):#sol=sum of list\n",
    "    s = 0\n",
    "    for i in List:\n",
    "        s =s + i\n",
    "    return s\n",
    "\n",
    "print(sol([1,3,5,7,9]))\n"
   ]
  },
  {
   "cell_type": "markdown",
   "metadata": {},
   "source": [
    "# Question 4:\n",
    "print only even numbers from the list\n"
   ]
  },
  {
   "cell_type": "code",
   "execution_count": 13,
   "metadata": {},
   "outputs": [
    {
     "name": "stdout",
     "output_type": "stream",
     "text": [
      "64 22 24 "
     ]
    }
   ],
   "source": [
    "list1 = [11,23,45,23,64,22,11,24]\n",
    "# iteration\n",
    "for num in list1:\n",
    "   # check\n",
    "   if num % 2 == 0:\n",
    "        print(num, end = \" \")"
   ]
  },
  {
   "cell_type": "markdown",
   "metadata": {},
   "source": [
    "# Question 5:\n",
    "Write a Python program to get the smallest number from a list and display index of smallest element of the list\n"
   ]
  },
  {
   "cell_type": "code",
   "execution_count": 18,
   "metadata": {},
   "outputs": [
    {
     "name": "stdout",
     "output_type": "stream",
     "text": [
      "the smallest number is  11 index of the  number is  1\n"
     ]
    }
   ],
   "source": [
    "list1=[13,11,14,15]\n",
    "print(\"the smallest number is \",min(list1),\"index of the  number is \",list1.index(min(list1)))"
   ]
  },
  {
   "cell_type": "markdown",
   "metadata": {},
   "source": [
    "# Question 6:\n",
    "Write a Python function that checks whether a passed string is palindrome or not.\n"
   ]
  },
  {
   "cell_type": "code",
   "execution_count": 19,
   "metadata": {},
   "outputs": [
    {
     "name": "stdout",
     "output_type": "stream",
     "text": [
      "enter the stringmadam\n",
      "the string is a palindrome\n"
     ]
    }
   ],
   "source": [
    "def Palindrome(s): \n",
    "    return s == s[::-1] \n",
    "s=input(\"enter the string\")\n",
    "ans = Palindrome(s) \n",
    "if ans: \n",
    "    print(\"the string is a palindrome\") \n",
    "else: \n",
    "    print(\"the string is not a palindrom\") "
   ]
  },
  {
   "cell_type": "markdown",
   "metadata": {},
   "source": [
    "# Question 7:\n",
    "Write a Python program to count the number of even and odd numbers from a series of numbers. \n",
    "Sample numbers : numbers = [1, 2, 3, 4, 5, 6, 7, 8, 9]\n",
    "Expected Output :\n",
    "Number of even numbers : 5\n",
    "Number of odd numbers : 4\n"
   ]
  },
  {
   "cell_type": "code",
   "execution_count": 20,
   "metadata": {},
   "outputs": [
    {
     "name": "stdout",
     "output_type": "stream",
     "text": [
      "Number of even numbers : 4\n",
      "Number of odd numbers : 5\n"
     ]
    }
   ],
   "source": [
    "numbers = [1,2,3,4,5,6,7,8,9]\n",
    "count_odd = 0\n",
    "count_even = 0\n",
    "for x in numbers:\n",
    "        if not x % 2:\n",
    "            count_even+=1\n",
    "        else:\n",
    "            count_odd+=1\n",
    "print(\"Number of even numbers :\",count_even)\n",
    "print(\"Number of odd numbers :\",count_odd)"
   ]
  },
  {
   "cell_type": "markdown",
   "metadata": {},
   "source": [
    "# Question 8:\n",
    "Write a Python program that prints all the numbers from 0 to 6 except 3 and 6.\n",
    "Note : Use 'continue' statement.\n",
    "Expected Output : 0 1 2 4 5\n",
    "\n"
   ]
  },
  {
   "cell_type": "code",
   "execution_count": 21,
   "metadata": {},
   "outputs": [
    {
     "name": "stdout",
     "output_type": "stream",
     "text": [
      "0 1 2 4 5 \n",
      "\n"
     ]
    }
   ],
   "source": [
    "for x in range(6):\n",
    "    if (x == 3 or x==6):\n",
    "        continue\n",
    "    print(x,end=' ')\n",
    "print(\"\\n\")\n"
   ]
  },
  {
   "cell_type": "markdown",
   "metadata": {},
   "source": [
    "# Question 9:\n",
    "Write a python function to check whether the given number is prime or not\n"
   ]
  },
  {
   "cell_type": "code",
   "execution_count": 13,
   "metadata": {},
   "outputs": [
    {
     "name": "stdout",
     "output_type": "stream",
     "text": [
      "enter the number5\n",
      "prime number\n"
     ]
    },
    {
     "data": {
      "text/plain": [
       "5"
      ]
     },
     "execution_count": 13,
     "metadata": {},
     "output_type": "execute_result"
    }
   ],
   "source": [
    "def prime(a):\n",
    "    for i in range(2,a):\n",
    "        if(a%i==0):\n",
    "            print(\"not prime number\")\n",
    "            break\n",
    "    else:\n",
    "        print(\"prime number\")\n",
    "    return a\n",
    "n=int(input(\"enter the number\"))\n",
    "prime(n)\n",
    "    \n"
   ]
  },
  {
   "cell_type": "markdown",
   "metadata": {},
   "source": [
    "# Question 10:\n",
    "Write a python function to check whether the given number is Adam number or not\n",
    "Example: \n",
    "Input : 12\n",
    "Output : Adam Number\n",
    "\n",
    "Explanation: 12*12 = 144\n",
    "Reverse of 12 is 21 → 21*21 =441\n",
    "Reverse of 144 == 441\n",
    "\n"
   ]
  },
  {
   "cell_type": "code",
   "execution_count": 14,
   "metadata": {},
   "outputs": [
    {
     "name": "stdout",
     "output_type": "stream",
     "text": [
      "Enter the number: 12\n",
      "12 is an Adam Number.\n"
     ]
    }
   ],
   "source": [
    "def isAdam(num):\n",
    "    n = num\n",
    "    rev = 0\n",
    "    while n != 0:\n",
    "        rev = rev * 10 + n % 10\n",
    "        n = n // 10\n",
    "    sn = num ** 2\n",
    "    sr = rev ** 2\n",
    "    n = sr\n",
    "    rev = 0\n",
    "    while n != 0:\n",
    "        rev = rev * 10 + n % 10\n",
    "        n = n // 10\n",
    "    return sn == rev\n",
    "\n",
    "num = int(input(\"Enter the number: \"))\n",
    "if isAdam(num):\n",
    "    print(str(num) + \" is an Adam Number.\")\n",
    "else:\n",
    "    print(str(num) + \" is NOT an Adam Number.\")"
   ]
  },
  {
   "cell_type": "code",
   "execution_count": null,
   "metadata": {},
   "outputs": [],
   "source": []
  }
 ],
 "metadata": {
  "kernelspec": {
   "display_name": "Python 3",
   "language": "python",
   "name": "python3"
  },
  "language_info": {
   "codemirror_mode": {
    "name": "ipython",
    "version": 3
   },
   "file_extension": ".py",
   "mimetype": "text/x-python",
   "name": "python",
   "nbconvert_exporter": "python",
   "pygments_lexer": "ipython3",
   "version": "3.7.6"
  }
 },
 "nbformat": 4,
 "nbformat_minor": 4
}
